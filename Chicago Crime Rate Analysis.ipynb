{
 "cells": [
  {
   "cell_type": "code",
   "execution_count": 2,
   "metadata": {
    "collapsed": true
   },
   "outputs": [],
   "source": [
    "#importing pandas and os modules\n",
    "import pandas as pd\n",
    "import os"
   ]
  },
  {
   "cell_type": "code",
   "execution_count": 3,
   "metadata": {},
   "outputs": [
    {
     "data": {
      "text/plain": [
       "'C:\\\\Users\\\\Qulu'"
      ]
     },
     "execution_count": 3,
     "metadata": {},
     "output_type": "execute_result"
    }
   ],
   "source": [
    "#detecting current path\n",
    "os.getcwd()"
   ]
  },
  {
   "cell_type": "code",
   "execution_count": 4,
   "metadata": {},
   "outputs": [
    {
     "data": {
      "text/html": [
       "<div>\n",
       "<style scoped>\n",
       "    .dataframe tbody tr th:only-of-type {\n",
       "        vertical-align: middle;\n",
       "    }\n",
       "\n",
       "    .dataframe tbody tr th {\n",
       "        vertical-align: top;\n",
       "    }\n",
       "\n",
       "    .dataframe thead th {\n",
       "        text-align: right;\n",
       "    }\n",
       "</style>\n",
       "<table border=\"1\" class=\"dataframe\">\n",
       "  <thead>\n",
       "    <tr style=\"text-align: right;\">\n",
       "      <th></th>\n",
       "      <th>ID</th>\n",
       "      <th>Case Number</th>\n",
       "      <th>Date</th>\n",
       "      <th>Block</th>\n",
       "      <th>IUCR</th>\n",
       "      <th>Primary Type</th>\n",
       "      <th>Description</th>\n",
       "      <th>Location Description</th>\n",
       "      <th>Arrest</th>\n",
       "      <th>Domestic</th>\n",
       "      <th>...</th>\n",
       "      <th>Ward</th>\n",
       "      <th>Community Area</th>\n",
       "      <th>FBI Code</th>\n",
       "      <th>X Coordinate</th>\n",
       "      <th>Y Coordinate</th>\n",
       "      <th>Year</th>\n",
       "      <th>Updated On</th>\n",
       "      <th>Latitude</th>\n",
       "      <th>Longitude</th>\n",
       "      <th>Location</th>\n",
       "    </tr>\n",
       "  </thead>\n",
       "  <tbody>\n",
       "    <tr>\n",
       "      <th>0</th>\n",
       "      <td>10887077</td>\n",
       "      <td>JA196832</td>\n",
       "      <td>01/01/2017 12:01:00 AM</td>\n",
       "      <td>073XX N OAKLEY AVE</td>\n",
       "      <td>1751</td>\n",
       "      <td>OFFENSE INVOLVING CHILDREN</td>\n",
       "      <td>CRIM SEX ABUSE BY FAM MEMBER</td>\n",
       "      <td>RESIDENCE</td>\n",
       "      <td>False</td>\n",
       "      <td>False</td>\n",
       "      <td>...</td>\n",
       "      <td>49</td>\n",
       "      <td>2</td>\n",
       "      <td>20</td>\n",
       "      <td>NaN</td>\n",
       "      <td>NaN</td>\n",
       "      <td>2017</td>\n",
       "      <td>03/23/2017 03:53:53 PM</td>\n",
       "      <td>NaN</td>\n",
       "      <td>NaN</td>\n",
       "      <td>NaN</td>\n",
       "    </tr>\n",
       "    <tr>\n",
       "      <th>1</th>\n",
       "      <td>10883971</td>\n",
       "      <td>JA193683</td>\n",
       "      <td>01/01/2017 12:01:00 AM</td>\n",
       "      <td>0000X E 103RD PL</td>\n",
       "      <td>0281</td>\n",
       "      <td>CRIM SEXUAL ASSAULT</td>\n",
       "      <td>NON-AGGRAVATED</td>\n",
       "      <td>RESIDENCE</td>\n",
       "      <td>False</td>\n",
       "      <td>False</td>\n",
       "      <td>...</td>\n",
       "      <td>9</td>\n",
       "      <td>49</td>\n",
       "      <td>02</td>\n",
       "      <td>NaN</td>\n",
       "      <td>NaN</td>\n",
       "      <td>2017</td>\n",
       "      <td>03/21/2017 03:50:39 PM</td>\n",
       "      <td>NaN</td>\n",
       "      <td>NaN</td>\n",
       "      <td>NaN</td>\n",
       "    </tr>\n",
       "    <tr>\n",
       "      <th>2</th>\n",
       "      <td>10883969</td>\n",
       "      <td>JA193696</td>\n",
       "      <td>01/01/2017 12:01:00 AM</td>\n",
       "      <td>075XX S KINGSTON AVE</td>\n",
       "      <td>1751</td>\n",
       "      <td>OFFENSE INVOLVING CHILDREN</td>\n",
       "      <td>CRIM SEX ABUSE BY FAM MEMBER</td>\n",
       "      <td>APARTMENT</td>\n",
       "      <td>False</td>\n",
       "      <td>False</td>\n",
       "      <td>...</td>\n",
       "      <td>7</td>\n",
       "      <td>43</td>\n",
       "      <td>20</td>\n",
       "      <td>NaN</td>\n",
       "      <td>NaN</td>\n",
       "      <td>2017</td>\n",
       "      <td>03/21/2017 03:50:39 PM</td>\n",
       "      <td>NaN</td>\n",
       "      <td>NaN</td>\n",
       "      <td>NaN</td>\n",
       "    </tr>\n",
       "    <tr>\n",
       "      <th>3</th>\n",
       "      <td>10878960</td>\n",
       "      <td>JA188281</td>\n",
       "      <td>01/01/2017 12:01:00 AM</td>\n",
       "      <td>009XX E 86TH ST</td>\n",
       "      <td>1754</td>\n",
       "      <td>OFFENSE INVOLVING CHILDREN</td>\n",
       "      <td>AGG SEX ASSLT OF CHILD FAM MBR</td>\n",
       "      <td>RESIDENCE</td>\n",
       "      <td>False</td>\n",
       "      <td>False</td>\n",
       "      <td>...</td>\n",
       "      <td>8</td>\n",
       "      <td>44</td>\n",
       "      <td>02</td>\n",
       "      <td>NaN</td>\n",
       "      <td>NaN</td>\n",
       "      <td>2017</td>\n",
       "      <td>03/17/2017 03:52:20 PM</td>\n",
       "      <td>NaN</td>\n",
       "      <td>NaN</td>\n",
       "      <td>NaN</td>\n",
       "    </tr>\n",
       "    <tr>\n",
       "      <th>4</th>\n",
       "      <td>10878804</td>\n",
       "      <td>JA187911</td>\n",
       "      <td>01/01/2017 12:01:00 AM</td>\n",
       "      <td>053XX N SHERIDAN RD</td>\n",
       "      <td>1195</td>\n",
       "      <td>DECEPTIVE PRACTICE</td>\n",
       "      <td>FINAN EXPLOIT-ELDERLY/DISABLED</td>\n",
       "      <td>APARTMENT</td>\n",
       "      <td>False</td>\n",
       "      <td>False</td>\n",
       "      <td>...</td>\n",
       "      <td>48</td>\n",
       "      <td>77</td>\n",
       "      <td>11</td>\n",
       "      <td>NaN</td>\n",
       "      <td>NaN</td>\n",
       "      <td>2017</td>\n",
       "      <td>03/16/2017 03:53:03 PM</td>\n",
       "      <td>NaN</td>\n",
       "      <td>NaN</td>\n",
       "      <td>NaN</td>\n",
       "    </tr>\n",
       "  </tbody>\n",
       "</table>\n",
       "<p>5 rows × 22 columns</p>\n",
       "</div>"
      ],
      "text/plain": [
       "         ID Case Number                    Date                 Block  IUCR  \\\n",
       "0  10887077    JA196832  01/01/2017 12:01:00 AM    073XX N OAKLEY AVE  1751   \n",
       "1  10883971    JA193683  01/01/2017 12:01:00 AM      0000X E 103RD PL  0281   \n",
       "2  10883969    JA193696  01/01/2017 12:01:00 AM  075XX S KINGSTON AVE  1751   \n",
       "3  10878960    JA188281  01/01/2017 12:01:00 AM       009XX E 86TH ST  1754   \n",
       "4  10878804    JA187911  01/01/2017 12:01:00 AM   053XX N SHERIDAN RD  1195   \n",
       "\n",
       "                 Primary Type                     Description  \\\n",
       "0  OFFENSE INVOLVING CHILDREN    CRIM SEX ABUSE BY FAM MEMBER   \n",
       "1         CRIM SEXUAL ASSAULT                  NON-AGGRAVATED   \n",
       "2  OFFENSE INVOLVING CHILDREN    CRIM SEX ABUSE BY FAM MEMBER   \n",
       "3  OFFENSE INVOLVING CHILDREN  AGG SEX ASSLT OF CHILD FAM MBR   \n",
       "4          DECEPTIVE PRACTICE  FINAN EXPLOIT-ELDERLY/DISABLED   \n",
       "\n",
       "  Location Description  Arrest  Domestic    ...     Ward  Community Area  \\\n",
       "0            RESIDENCE   False     False    ...       49               2   \n",
       "1            RESIDENCE   False     False    ...        9              49   \n",
       "2            APARTMENT   False     False    ...        7              43   \n",
       "3            RESIDENCE   False     False    ...        8              44   \n",
       "4            APARTMENT   False     False    ...       48              77   \n",
       "\n",
       "   FBI Code  X Coordinate Y Coordinate  Year              Updated On  \\\n",
       "0        20           NaN          NaN  2017  03/23/2017 03:53:53 PM   \n",
       "1        02           NaN          NaN  2017  03/21/2017 03:50:39 PM   \n",
       "2        20           NaN          NaN  2017  03/21/2017 03:50:39 PM   \n",
       "3        02           NaN          NaN  2017  03/17/2017 03:52:20 PM   \n",
       "4        11           NaN          NaN  2017  03/16/2017 03:53:03 PM   \n",
       "\n",
       "   Latitude Longitude  Location  \n",
       "0       NaN       NaN       NaN  \n",
       "1       NaN       NaN       NaN  \n",
       "2       NaN       NaN       NaN  \n",
       "3       NaN       NaN       NaN  \n",
       "4       NaN       NaN       NaN  \n",
       "\n",
       "[5 rows x 22 columns]"
      ]
     },
     "execution_count": 4,
     "metadata": {},
     "output_type": "execute_result"
    }
   ],
   "source": [
    "df = pd.read_csv('Desktop/Crimes_2017.csv')\n",
    "df.head()"
   ]
  },
  {
   "cell_type": "code",
   "execution_count": 4,
   "metadata": {},
   "outputs": [
    {
     "data": {
      "text/html": [
       "<div>\n",
       "<style scoped>\n",
       "    .dataframe tbody tr th:only-of-type {\n",
       "        vertical-align: middle;\n",
       "    }\n",
       "\n",
       "    .dataframe tbody tr th {\n",
       "        vertical-align: top;\n",
       "    }\n",
       "\n",
       "    .dataframe thead th {\n",
       "        text-align: right;\n",
       "    }\n",
       "</style>\n",
       "<table border=\"1\" class=\"dataframe\">\n",
       "  <thead>\n",
       "    <tr style=\"text-align: right;\">\n",
       "      <th></th>\n",
       "      <th>ID</th>\n",
       "      <th>Case Number</th>\n",
       "      <th>Date</th>\n",
       "      <th>Block</th>\n",
       "      <th>IUCR</th>\n",
       "      <th>Primary Type</th>\n",
       "      <th>Description</th>\n",
       "      <th>Location Description</th>\n",
       "      <th>Arrest</th>\n",
       "      <th>Domestic</th>\n",
       "      <th>...</th>\n",
       "      <th>Ward</th>\n",
       "      <th>Community Area</th>\n",
       "      <th>FBI Code</th>\n",
       "      <th>X Coordinate</th>\n",
       "      <th>Y Coordinate</th>\n",
       "      <th>Year</th>\n",
       "      <th>Updated On</th>\n",
       "      <th>Latitude</th>\n",
       "      <th>Longitude</th>\n",
       "      <th>Location</th>\n",
       "    </tr>\n",
       "  </thead>\n",
       "  <tbody>\n",
       "    <tr>\n",
       "      <th>39060</th>\n",
       "      <td>10863122</td>\n",
       "      <td>JA169497</td>\n",
       "      <td>02/27/2017 11:30:00 PM</td>\n",
       "      <td>080XX S PAULINA ST</td>\n",
       "      <td>0486</td>\n",
       "      <td>BATTERY</td>\n",
       "      <td>DOMESTIC BATTERY SIMPLE</td>\n",
       "      <td>APARTMENT</td>\n",
       "      <td>False</td>\n",
       "      <td>True</td>\n",
       "      <td>...</td>\n",
       "      <td>21</td>\n",
       "      <td>71</td>\n",
       "      <td>08B</td>\n",
       "      <td>1166409.0</td>\n",
       "      <td>1851391.0</td>\n",
       "      <td>2017</td>\n",
       "      <td>03/06/2017 03:51:31 PM</td>\n",
       "      <td>41.747786</td>\n",
       "      <td>-87.665801</td>\n",
       "      <td>(41.747786457, -87.66580098)</td>\n",
       "    </tr>\n",
       "    <tr>\n",
       "      <th>39061</th>\n",
       "      <td>10863080</td>\n",
       "      <td>JA169486</td>\n",
       "      <td>02/27/2017 11:30:00 PM</td>\n",
       "      <td>001XX N LA SALLE ST</td>\n",
       "      <td>0460</td>\n",
       "      <td>BATTERY</td>\n",
       "      <td>SIMPLE</td>\n",
       "      <td>STREET</td>\n",
       "      <td>False</td>\n",
       "      <td>False</td>\n",
       "      <td>...</td>\n",
       "      <td>42</td>\n",
       "      <td>32</td>\n",
       "      <td>08B</td>\n",
       "      <td>1175111.0</td>\n",
       "      <td>1901119.0</td>\n",
       "      <td>2017</td>\n",
       "      <td>03/06/2017 03:51:31 PM</td>\n",
       "      <td>41.884055</td>\n",
       "      <td>-87.632428</td>\n",
       "      <td>(41.88405495, -87.632427936)</td>\n",
       "    </tr>\n",
       "    <tr>\n",
       "      <th>39062</th>\n",
       "      <td>10863131</td>\n",
       "      <td>JA169503</td>\n",
       "      <td>02/27/2017 11:45:00 PM</td>\n",
       "      <td>053XX S CORNELL AVE</td>\n",
       "      <td>0486</td>\n",
       "      <td>BATTERY</td>\n",
       "      <td>DOMESTIC BATTERY SIMPLE</td>\n",
       "      <td>APARTMENT</td>\n",
       "      <td>False</td>\n",
       "      <td>False</td>\n",
       "      <td>...</td>\n",
       "      <td>5</td>\n",
       "      <td>41</td>\n",
       "      <td>08B</td>\n",
       "      <td>1188159.0</td>\n",
       "      <td>1870195.0</td>\n",
       "      <td>2017</td>\n",
       "      <td>03/06/2017 03:51:31 PM</td>\n",
       "      <td>41.798896</td>\n",
       "      <td>-87.585504</td>\n",
       "      <td>(41.798895523, -87.585503868)</td>\n",
       "    </tr>\n",
       "    <tr>\n",
       "      <th>39063</th>\n",
       "      <td>10863143</td>\n",
       "      <td>JA169499</td>\n",
       "      <td>02/27/2017 11:47:00 PM</td>\n",
       "      <td>116XX S HALE AVE</td>\n",
       "      <td>0560</td>\n",
       "      <td>ASSAULT</td>\n",
       "      <td>SIMPLE</td>\n",
       "      <td>RESIDENCE</td>\n",
       "      <td>False</td>\n",
       "      <td>True</td>\n",
       "      <td>...</td>\n",
       "      <td>19</td>\n",
       "      <td>75</td>\n",
       "      <td>08A</td>\n",
       "      <td>1164717.0</td>\n",
       "      <td>1827379.0</td>\n",
       "      <td>2017</td>\n",
       "      <td>03/06/2017 03:51:31 PM</td>\n",
       "      <td>41.681929</td>\n",
       "      <td>-87.672676</td>\n",
       "      <td>(41.681929492, -87.672676154)</td>\n",
       "    </tr>\n",
       "    <tr>\n",
       "      <th>39064</th>\n",
       "      <td>10863185</td>\n",
       "      <td>JA169507</td>\n",
       "      <td>02/27/2017 11:54:00 PM</td>\n",
       "      <td>079XX S ESSEX AVE</td>\n",
       "      <td>143A</td>\n",
       "      <td>WEAPONS VIOLATION</td>\n",
       "      <td>UNLAWFUL POSS OF HANDGUN</td>\n",
       "      <td>STREET</td>\n",
       "      <td>True</td>\n",
       "      <td>False</td>\n",
       "      <td>...</td>\n",
       "      <td>7</td>\n",
       "      <td>46</td>\n",
       "      <td>15</td>\n",
       "      <td>1194232.0</td>\n",
       "      <td>1852897.0</td>\n",
       "      <td>2017</td>\n",
       "      <td>03/06/2017 03:51:31 PM</td>\n",
       "      <td>41.751281</td>\n",
       "      <td>-87.563801</td>\n",
       "      <td>(41.751281494, -87.563800882)</td>\n",
       "    </tr>\n",
       "  </tbody>\n",
       "</table>\n",
       "<p>5 rows × 22 columns</p>\n",
       "</div>"
      ],
      "text/plain": [
       "             ID Case Number                    Date                Block  \\\n",
       "39060  10863122    JA169497  02/27/2017 11:30:00 PM   080XX S PAULINA ST   \n",
       "39061  10863080    JA169486  02/27/2017 11:30:00 PM  001XX N LA SALLE ST   \n",
       "39062  10863131    JA169503  02/27/2017 11:45:00 PM  053XX S CORNELL AVE   \n",
       "39063  10863143    JA169499  02/27/2017 11:47:00 PM     116XX S HALE AVE   \n",
       "39064  10863185    JA169507  02/27/2017 11:54:00 PM    079XX S ESSEX AVE   \n",
       "\n",
       "       IUCR       Primary Type               Description Location Description  \\\n",
       "39060  0486            BATTERY   DOMESTIC BATTERY SIMPLE            APARTMENT   \n",
       "39061  0460            BATTERY                    SIMPLE               STREET   \n",
       "39062  0486            BATTERY   DOMESTIC BATTERY SIMPLE            APARTMENT   \n",
       "39063  0560            ASSAULT                    SIMPLE            RESIDENCE   \n",
       "39064  143A  WEAPONS VIOLATION  UNLAWFUL POSS OF HANDGUN               STREET   \n",
       "\n",
       "       Arrest  Domestic              ...                Ward  Community Area  \\\n",
       "39060   False      True              ...                  21              71   \n",
       "39061   False     False              ...                  42              32   \n",
       "39062   False     False              ...                   5              41   \n",
       "39063   False      True              ...                  19              75   \n",
       "39064    True     False              ...                   7              46   \n",
       "\n",
       "       FBI Code  X Coordinate Y Coordinate  Year              Updated On  \\\n",
       "39060       08B     1166409.0    1851391.0  2017  03/06/2017 03:51:31 PM   \n",
       "39061       08B     1175111.0    1901119.0  2017  03/06/2017 03:51:31 PM   \n",
       "39062       08B     1188159.0    1870195.0  2017  03/06/2017 03:51:31 PM   \n",
       "39063       08A     1164717.0    1827379.0  2017  03/06/2017 03:51:31 PM   \n",
       "39064        15     1194232.0    1852897.0  2017  03/06/2017 03:51:31 PM   \n",
       "\n",
       "        Latitude  Longitude                       Location  \n",
       "39060  41.747786 -87.665801   (41.747786457, -87.66580098)  \n",
       "39061  41.884055 -87.632428   (41.88405495, -87.632427936)  \n",
       "39062  41.798896 -87.585504  (41.798895523, -87.585503868)  \n",
       "39063  41.681929 -87.672676  (41.681929492, -87.672676154)  \n",
       "39064  41.751281 -87.563801  (41.751281494, -87.563800882)  \n",
       "\n",
       "[5 rows x 22 columns]"
      ]
     },
     "execution_count": 4,
     "metadata": {},
     "output_type": "execute_result"
    }
   ],
   "source": [
    "df.tail()"
   ]
  },
  {
   "cell_type": "code",
   "execution_count": 5,
   "metadata": {
    "collapsed": true
   },
   "outputs": [],
   "source": [
    "#importing Data Visualization tools\n",
    "import matplotlib.pyplot as plt\n",
    "%matplotlib inline\n",
    "import seaborn as sns"
   ]
  },
  {
   "cell_type": "code",
   "execution_count": 6,
   "metadata": {
    "scrolled": false
   },
   "outputs": [
    {
     "data": {
      "text/plain": [
       "ID                        int64\n",
       "Case Number              object\n",
       "Date                     object\n",
       "Block                    object\n",
       "IUCR                     object\n",
       "Primary Type             object\n",
       "Description              object\n",
       "Location Description     object\n",
       "Arrest                     bool\n",
       "Domestic                   bool\n",
       "Beat                      int64\n",
       "District                  int64\n",
       "Ward                      int64\n",
       "Community Area            int64\n",
       "FBI Code                 object\n",
       "X Coordinate            float64\n",
       "Y Coordinate            float64\n",
       "Year                      int64\n",
       "Updated On               object\n",
       "Latitude                float64\n",
       "Longitude               float64\n",
       "Location                 object\n",
       "dtype: object"
      ]
     },
     "execution_count": 6,
     "metadata": {},
     "output_type": "execute_result"
    }
   ],
   "source": [
    "df.dtypes"
   ]
  },
  {
   "cell_type": "code",
   "execution_count": 7,
   "metadata": {
    "collapsed": true
   },
   "outputs": [],
   "source": [
    "#Dropping values which doesnt have any value for better calculation purposes\n",
    "df.dropna(inplace=True, axis=0)"
   ]
  },
  {
   "cell_type": "code",
   "execution_count": 8,
   "metadata": {},
   "outputs": [
    {
     "name": "stderr",
     "output_type": "stream",
     "text": [
      "C:\\Users\\Qulu\\Anaconda3\\lib\\site-packages\\ipykernel_launcher.py:2: FutureWarning: specifying 'categories' or 'ordered' in .astype() is deprecated; pass a CategoricalDtype instead\n",
      "  \n"
     ]
    }
   ],
   "source": [
    "#Changing data type of 'Primary Type' column to categorical\n",
    "df['Primary Type'] = df['Primary Type'].astype('category', ordered=False)"
   ]
  },
  {
   "cell_type": "code",
   "execution_count": 9,
   "metadata": {
    "collapsed": true
   },
   "outputs": [],
   "source": [
    "#Changing datatype of 'Date' column to date format\n",
    "df['Date'] = pd.to_datetime(df['Date'].str[0:10], format='%m/%d/%Y')"
   ]
  },
  {
   "cell_type": "code",
   "execution_count": 10,
   "metadata": {
    "scrolled": false
   },
   "outputs": [
    {
     "data": {
      "text/plain": [
       "ID                               int64\n",
       "Case Number                     object\n",
       "Date                    datetime64[ns]\n",
       "Block                           object\n",
       "IUCR                            object\n",
       "Primary Type                  category\n",
       "Description                     object\n",
       "Location Description            object\n",
       "Arrest                            bool\n",
       "Domestic                          bool\n",
       "Beat                             int64\n",
       "District                         int64\n",
       "Ward                             int64\n",
       "Community Area                   int64\n",
       "FBI Code                        object\n",
       "X Coordinate                   float64\n",
       "Y Coordinate                   float64\n",
       "Year                             int64\n",
       "Updated On                      object\n",
       "Latitude                       float64\n",
       "Longitude                      float64\n",
       "Location                        object\n",
       "dtype: object"
      ]
     },
     "execution_count": 10,
     "metadata": {},
     "output_type": "execute_result"
    }
   ],
   "source": [
    "df.dtypes"
   ]
  },
  {
   "cell_type": "markdown",
   "metadata": {},
   "source": [
    "# 1. Find 12 most common crime types"
   ]
  },
  {
   "cell_type": "code",
   "execution_count": 11,
   "metadata": {},
   "outputs": [
    {
     "data": {
      "text/html": [
       "<div>\n",
       "<style scoped>\n",
       "    .dataframe tbody tr th:only-of-type {\n",
       "        vertical-align: middle;\n",
       "    }\n",
       "\n",
       "    .dataframe tbody tr th {\n",
       "        vertical-align: top;\n",
       "    }\n",
       "\n",
       "    .dataframe thead th {\n",
       "        text-align: right;\n",
       "    }\n",
       "</style>\n",
       "<table border=\"1\" class=\"dataframe\">\n",
       "  <thead>\n",
       "    <tr style=\"text-align: right;\">\n",
       "      <th></th>\n",
       "      <th>CrimeTypes</th>\n",
       "      <th>Quantity</th>\n",
       "    </tr>\n",
       "  </thead>\n",
       "  <tbody>\n",
       "    <tr>\n",
       "      <th>0</th>\n",
       "      <td>ARSON</td>\n",
       "      <td>73</td>\n",
       "    </tr>\n",
       "    <tr>\n",
       "      <th>1</th>\n",
       "      <td>ASSAULT</td>\n",
       "      <td>2577</td>\n",
       "    </tr>\n",
       "    <tr>\n",
       "      <th>2</th>\n",
       "      <td>BATTERY</td>\n",
       "      <td>6730</td>\n",
       "    </tr>\n",
       "    <tr>\n",
       "      <th>3</th>\n",
       "      <td>BURGLARY</td>\n",
       "      <td>2163</td>\n",
       "    </tr>\n",
       "    <tr>\n",
       "      <th>4</th>\n",
       "      <td>CONCEALED CARRY LICENSE VIOLATION</td>\n",
       "      <td>10</td>\n",
       "    </tr>\n",
       "  </tbody>\n",
       "</table>\n",
       "</div>"
      ],
      "text/plain": [
       "                          CrimeTypes  Quantity\n",
       "0                              ARSON        73\n",
       "1                            ASSAULT      2577\n",
       "2                            BATTERY      6730\n",
       "3                           BURGLARY      2163\n",
       "4  CONCEALED CARRY LICENSE VIOLATION        10"
      ]
     },
     "execution_count": 11,
     "metadata": {},
     "output_type": "execute_result"
    }
   ],
   "source": [
    "#Here first we create new Dataframe from 2 columns and groupby them and also count each ot their occurences\n",
    "most_cmn_crimes = df[['Primary Type', 'Block']].groupby('Primary Type').agg('count')\n",
    "#Reseting indexes for easier reading\n",
    "most_cmn_crimes.reset_index(inplace=True)\n",
    "#Renaming the columns\n",
    "most_cmn_crimes.columns = ['CrimeTypes', 'Quantity']\n",
    "most_cmn_crimes.head()"
   ]
  },
  {
   "cell_type": "code",
   "execution_count": 12,
   "metadata": {
    "scrolled": true
   },
   "outputs": [
    {
     "data": {
      "text/html": [
       "<div>\n",
       "<style scoped>\n",
       "    .dataframe tbody tr th:only-of-type {\n",
       "        vertical-align: middle;\n",
       "    }\n",
       "\n",
       "    .dataframe tbody tr th {\n",
       "        vertical-align: top;\n",
       "    }\n",
       "\n",
       "    .dataframe thead th {\n",
       "        text-align: right;\n",
       "    }\n",
       "</style>\n",
       "<table border=\"1\" class=\"dataframe\">\n",
       "  <thead>\n",
       "    <tr style=\"text-align: right;\">\n",
       "      <th></th>\n",
       "      <th>CrimeTypes</th>\n",
       "      <th>Quantity</th>\n",
       "    </tr>\n",
       "  </thead>\n",
       "  <tbody>\n",
       "    <tr>\n",
       "      <th>28</th>\n",
       "      <td>THEFT</td>\n",
       "      <td>8834</td>\n",
       "    </tr>\n",
       "    <tr>\n",
       "      <th>2</th>\n",
       "      <td>BATTERY</td>\n",
       "      <td>6730</td>\n",
       "    </tr>\n",
       "    <tr>\n",
       "      <th>6</th>\n",
       "      <td>CRIMINAL DAMAGE</td>\n",
       "      <td>4328</td>\n",
       "    </tr>\n",
       "    <tr>\n",
       "      <th>21</th>\n",
       "      <td>OTHER OFFENSE</td>\n",
       "      <td>2764</td>\n",
       "    </tr>\n",
       "    <tr>\n",
       "      <th>1</th>\n",
       "      <td>ASSAULT</td>\n",
       "      <td>2577</td>\n",
       "    </tr>\n",
       "    <tr>\n",
       "      <th>8</th>\n",
       "      <td>DECEPTIVE PRACTICE</td>\n",
       "      <td>2331</td>\n",
       "    </tr>\n",
       "    <tr>\n",
       "      <th>3</th>\n",
       "      <td>BURGLARY</td>\n",
       "      <td>2163</td>\n",
       "    </tr>\n",
       "    <tr>\n",
       "      <th>15</th>\n",
       "      <td>MOTOR VEHICLE THEFT</td>\n",
       "      <td>2012</td>\n",
       "    </tr>\n",
       "    <tr>\n",
       "      <th>25</th>\n",
       "      <td>ROBBERY</td>\n",
       "      <td>1820</td>\n",
       "    </tr>\n",
       "    <tr>\n",
       "      <th>16</th>\n",
       "      <td>NARCOTICS</td>\n",
       "      <td>1483</td>\n",
       "    </tr>\n",
       "    <tr>\n",
       "      <th>7</th>\n",
       "      <td>CRIMINAL TRESPASS</td>\n",
       "      <td>1067</td>\n",
       "    </tr>\n",
       "    <tr>\n",
       "      <th>29</th>\n",
       "      <td>WEAPONS VIOLATION</td>\n",
       "      <td>647</td>\n",
       "    </tr>\n",
       "  </tbody>\n",
       "</table>\n",
       "</div>"
      ],
      "text/plain": [
       "             CrimeTypes  Quantity\n",
       "28                THEFT      8834\n",
       "2               BATTERY      6730\n",
       "6       CRIMINAL DAMAGE      4328\n",
       "21        OTHER OFFENSE      2764\n",
       "1               ASSAULT      2577\n",
       "8    DECEPTIVE PRACTICE      2331\n",
       "3              BURGLARY      2163\n",
       "15  MOTOR VEHICLE THEFT      2012\n",
       "25              ROBBERY      1820\n",
       "16            NARCOTICS      1483\n",
       "7     CRIMINAL TRESPASS      1067\n",
       "29    WEAPONS VIOLATION       647"
      ]
     },
     "execution_count": 12,
     "metadata": {},
     "output_type": "execute_result"
    }
   ],
   "source": [
    "#Here we sort values in Descending order to see the result\n",
    "most_cmn_crimes.sort_values(by='Quantity',ascending=False, inplace=True)\n",
    "#HERE THEY ARE!\n",
    "most_cmn_crimes.head(12)"
   ]
  },
  {
   "cell_type": "markdown",
   "metadata": {},
   "source": [
    "# 2. Crime types that have median above 50 crimes/day"
   ]
  },
  {
   "cell_type": "code",
   "execution_count": 16,
   "metadata": {},
   "outputs": [
    {
     "data": {
      "text/html": [
       "<div>\n",
       "<style scoped>\n",
       "    .dataframe tbody tr th:only-of-type {\n",
       "        vertical-align: middle;\n",
       "    }\n",
       "\n",
       "    .dataframe tbody tr th {\n",
       "        vertical-align: top;\n",
       "    }\n",
       "\n",
       "    .dataframe thead th {\n",
       "        text-align: right;\n",
       "    }\n",
       "</style>\n",
       "<table border=\"1\" class=\"dataframe\">\n",
       "  <thead>\n",
       "    <tr style=\"text-align: right;\">\n",
       "      <th></th>\n",
       "      <th>CrimeType</th>\n",
       "      <th>Date</th>\n",
       "      <th>Quantity</th>\n",
       "    </tr>\n",
       "  </thead>\n",
       "  <tbody>\n",
       "    <tr>\n",
       "      <th>0</th>\n",
       "      <td>ARSON</td>\n",
       "      <td>2017-01-01</td>\n",
       "      <td>NaN</td>\n",
       "    </tr>\n",
       "    <tr>\n",
       "      <th>1</th>\n",
       "      <td>ARSON</td>\n",
       "      <td>2017-01-02</td>\n",
       "      <td>3.0</td>\n",
       "    </tr>\n",
       "    <tr>\n",
       "      <th>2</th>\n",
       "      <td>ARSON</td>\n",
       "      <td>2017-01-03</td>\n",
       "      <td>1.0</td>\n",
       "    </tr>\n",
       "    <tr>\n",
       "      <th>3</th>\n",
       "      <td>ARSON</td>\n",
       "      <td>2017-01-04</td>\n",
       "      <td>1.0</td>\n",
       "    </tr>\n",
       "    <tr>\n",
       "      <th>4</th>\n",
       "      <td>ARSON</td>\n",
       "      <td>2017-01-05</td>\n",
       "      <td>NaN</td>\n",
       "    </tr>\n",
       "  </tbody>\n",
       "</table>\n",
       "</div>"
      ],
      "text/plain": [
       "  CrimeType       Date  Quantity\n",
       "0     ARSON 2017-01-01       NaN\n",
       "1     ARSON 2017-01-02       3.0\n",
       "2     ARSON 2017-01-03       1.0\n",
       "3     ARSON 2017-01-04       1.0\n",
       "4     ARSON 2017-01-05       NaN"
      ]
     },
     "execution_count": 16,
     "metadata": {},
     "output_type": "execute_result"
    }
   ],
   "source": [
    "#Creating new DataFrame for solving this problem much faster and in more readable way\n",
    "crime_byday = df[['Primary Type', 'Date', 'Block']].groupby(['Primary Type', 'Date']).agg('count')\n",
    "#Re-indexing\n",
    "crime_byday.reset_index(inplace=True)\n",
    "#Renaming columns\n",
    "crime_byday.columns = ['CrimeType', 'Date', 'Quantity']\n",
    "crime_byday.head()"
   ]
  },
  {
   "cell_type": "code",
   "execution_count": 17,
   "metadata": {
    "collapsed": true
   },
   "outputs": [],
   "source": [
    "#Filtering just top 12 crimes\n",
    "crime_byday = crime_byday[crime_byday.CrimeType.isin(most_cmn_crimes['CrimeTypes'][0:12])]"
   ]
  },
  {
   "cell_type": "code",
   "execution_count": 18,
   "metadata": {
    "collapsed": true
   },
   "outputs": [],
   "source": [
    "#Visualizing\n",
    "sns.set(style=\"darkgrid\")"
   ]
  },
  {
   "cell_type": "code",
   "execution_count": 19,
   "metadata": {},
   "outputs": [
    {
     "name": "stderr",
     "output_type": "stream",
     "text": [
      "C:\\Users\\Qulu\\Anaconda3\\lib\\site-packages\\seaborn\\categorical.py:454: FutureWarning: remove_na is deprecated and is a private function. Do not use.\n",
      "  box_data = remove_na(group_data)\n"
     ]
    },
    {
     "data": {
      "text/plain": [
       "(array([ 0,  1,  2,  3,  4,  5,  6,  7,  8,  9, 10, 11, 12, 13, 14, 15, 16,\n",
       "        17, 18, 19, 20, 21, 22, 23, 24, 25, 26, 27, 28, 29]),\n",
       " <a list of 30 Text xticklabel objects>)"
      ]
     },
     "execution_count": 19,
     "metadata": {},
     "output_type": "execute_result"
    },
    {
     "data": {
      "image/png": "[encoded data removed]",
      "text/plain": [
       "<matplotlib.figure.Figure at 0x2e23b58b470>"
      ]
     },
     "metadata": {},
     "output_type": "display_data"
    }
   ],
   "source": [
    "# Plot the boxplot\n",
    "g = sns.boxplot(data=crime_byday, x='CrimeType', y = 'Quantity')\n",
    "plt.xticks(rotation=90)"
   ]
  },
  {
   "cell_type": "markdown",
   "metadata": {},
   "source": [
    "Here we can see that, Theft , Battery and Criminal Damage has the mean over 50"
   ]
  },
  {
   "cell_type": "code",
   "execution_count": null,
   "metadata": {
    "collapsed": true
   },
   "outputs": [],
   "source": []
  }
 ],
 "metadata": {
  "kernelspec": {
   "display_name": "Python 3",
   "language": "python",
   "name": "python3"
  },
  "language_info": {
   "codemirror_mode": {
    "name": "ipython",
    "version": 3
   },
   "file_extension": ".py",
   "mimetype": "text/x-python",
   "name": "python",
   "nbconvert_exporter": "python",
   "pygments_lexer": "ipython3",
   "version": "3.6.1"
  }
 },
 "nbformat": 4,
 "nbformat_minor": 2
}
