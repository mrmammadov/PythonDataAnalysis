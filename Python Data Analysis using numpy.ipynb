{
 "cells": [
  {
   "cell_type": "code",
   "execution_count": 146,
   "metadata": {
    "collapsed": true
   },
   "outputs": [],
   "source": [
    "#Data \n",
    "revenue = [14574.49, 7606.46, 8611.41, 9175.41, 8058.65, 8105.44, 11496.28, 9766.09, 10305.32, 14379.96, 10713.97, 15433.50]\n",
    "expenses = [12051.82, 5695.07, 12319.20, 12089.72, 8658.57, 840.20, 3285.73, 5821.12, 6976.93, 16618.61, 10054.37, 3803.96]"
   ]
  },
  {
   "cell_type": "code",
   "execution_count": 147,
   "metadata": {
    "collapsed": true
   },
   "outputs": [],
   "source": [
    "months = {0:'January',1:'February',2:'March',3:'April',4:'May',5:'June',6:'July',7:'August',8:'September',\n",
    "           9:'October',10:'November',11:'December'}"
   ]
  },
  {
   "cell_type": "code",
   "execution_count": 148,
   "metadata": {
    "collapsed": true
   },
   "outputs": [],
   "source": [
    "import numpy as np"
   ]
  },
  {
   "cell_type": "code",
   "execution_count": 149,
   "metadata": {
    "collapsed": true
   },
   "outputs": [],
   "source": [
    "#Revenue as numpy ndarray for faster calculations\n",
    "revenue = np.array(revenue)"
   ]
  },
  {
   "cell_type": "code",
   "execution_count": 150,
   "metadata": {},
   "outputs": [],
   "source": [
    "#Expenses as numpy array\n",
    "expenses = np.array(expenses)"
   ]
  },
  {
   "cell_type": "code",
   "execution_count": 151,
   "metadata": {},
   "outputs": [],
   "source": [
    "#Profit Calculation\n",
    "Profit = revenue - expenses\n",
    "Profit = Profit.astype(int)"
   ]
  },
  {
   "cell_type": "code",
   "execution_count": 152,
   "metadata": {},
   "outputs": [],
   "source": [
    "#Profit After Tax Calculation\n",
    "Profit_After_Tax = Profit - (Profit * 30 / 100)\n",
    "\n",
    "#changing data type to integers\n",
    "Profit_After_Tax = Profit_After_Tax.astype(int)"
   ]
  },
  {
   "cell_type": "code",
   "execution_count": 153,
   "metadata": {},
   "outputs": [],
   "source": [
    "#Profit Margin Calculation (as % units) \n",
    "Profit_Margin = (Profit_After_Tax / revenue) * 100\n",
    "Profit_Margin = Profit_Margin.astype(int)\n"
   ]
  },
  {
   "cell_type": "code",
   "execution_count": 160,
   "metadata": {
    "collapsed": true
   },
   "outputs": [],
   "source": [
    "#Mean Calculation of Profit After Tax\n",
    "Profit_After_Tax_Mean = np.mean(Profit_After_Tax)"
   ]
  },
  {
   "cell_type": "code",
   "execution_count": 155,
   "metadata": {},
   "outputs": [],
   "source": [
    "Good_Months = Profit_After_Tax > Profit_After_Tax_Mean"
   ]
  },
  {
   "cell_type": "code",
   "execution_count": 156,
   "metadata": {},
   "outputs": [],
   "source": [
    "Bad_Months = Profit_After_Tax < Profit_After_Tax_Mean"
   ]
  },
  {
   "cell_type": "code",
   "execution_count": 157,
   "metadata": {
    "collapsed": true
   },
   "outputs": [],
   "source": [
    "BestMonth = max(Profit_After_Tax)"
   ]
  },
  {
   "cell_type": "code",
   "execution_count": 158,
   "metadata": {},
   "outputs": [],
   "source": [
    "WorstMonth = min(Profit_After_Tax)"
   ]
  },
  {
   "cell_type": "code",
   "execution_count": 161,
   "metadata": {},
   "outputs": [
    {
     "name": "stdout",
     "output_type": "stream",
     "text": [
      "Revenue :\n",
      "[ 14574.49   7606.46   8611.41   9175.41   8058.65   8105.44  11496.28\n",
      "   9766.09  10305.32  14379.96  10713.97  15433.5 ]\n",
      "Expenses :\n",
      "[ 12051.82   5695.07  12319.2   12089.72   8658.57    840.2    3285.73\n",
      "   5821.12   6976.93  16618.61  10054.37   3803.96]\n",
      "Profit :\n",
      "[ 2522  1911 -3707 -2914  -599  7265  8210  3944  3328 -2238   659 11629]\n",
      "Profit after tax :\n",
      "[ 1765  1337 -2594 -2039  -419  5085  5747  2760  2329 -1566   461  8140]\n",
      "Profit margin :\n",
      "[ 12  17 -30 -22  -5  62  49  28  22 -10   4  52]\n",
      "Good months :\n",
      "[ True False False False False  True  True  True  True False False  True]\n",
      "Bad months :\n",
      "[False  True  True  True  True False False False False  True  True False]\n",
      "Best month :\n",
      "8140\n",
      "Worst month :\n",
      "-2594\n"
     ]
    }
   ],
   "source": [
    "#Print Results\n",
    "print (\"Revenue :\") \n",
    "print (revenue)\n",
    "print (\"Expenses :\") \n",
    "print (expenses)\n",
    "print (\"Profit :\")\n",
    "print(Profit)\n",
    "print (\"Profit after tax :\")\n",
    "print (Profit_After_Tax)\n",
    "print (\"Profit margin :\")\n",
    "print (Profit_Margin)\n",
    "print (\"Good months :\")\n",
    "print (Good_Months)\n",
    "print (\"Bad months :\")\n",
    "print (Bad_Months)\n",
    "print (\"Best month :\")\n",
    "print (BestMonth)\n",
    "print (\"Worst month :\")\n",
    "print (WorstMonth)"
   ]
  },
  {
   "cell_type": "code",
   "execution_count": null,
   "metadata": {
    "collapsed": true
   },
   "outputs": [],
   "source": []
  }
 ],
 "metadata": {
  "kernelspec": {
   "display_name": "Python 3",
   "language": "python",
   "name": "python3"
  },
  "language_info": {
   "codemirror_mode": {
    "name": "ipython",
    "version": 3
   },
   "file_extension": ".py",
   "mimetype": "text/x-python",
   "name": "python",
   "nbconvert_exporter": "python",
   "pygments_lexer": "ipython3",
   "version": "3.6.1"
  }
 },
 "nbformat": 4,
 "nbformat_minor": 1
}
